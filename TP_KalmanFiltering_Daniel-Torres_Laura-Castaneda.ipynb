{
 "cells": [
  {
   "cell_type": "markdown",
   "id": "2be2ce3c",
   "metadata": {},
   "source": [
    "# Kalman Filtering"
   ]
  },
  {
   "cell_type": "markdown",
   "id": "fe2cc1f6",
   "metadata": {},
   "source": [
    "Daniel Felipe Torres Robles - Laura Manuela Castañeda Medina"
   ]
  },
  {
   "cell_type": "code",
   "execution_count": 1,
   "id": "512b9eb7-e975-456b-a747-a039c65ed59e",
   "metadata": {},
   "outputs": [],
   "source": [
    "# The first part of this notebook is inspired by R. Labbe's work, the second by A. Bewley's.\n",
    "\n",
    "import numpy as np\n",
    "\n",
    "import matplotlib as mpl\n",
    "import matplotlib.pyplot as plt"
   ]
  },
  {
   "cell_type": "markdown",
   "id": "6e239371-2c66-447a-8f8e-b73e5a33734a",
   "metadata": {},
   "source": [
    "You should submit before the deadline a **TP_KalmanFilter_firstname-surname.ipynb** file containing:\n",
    "- completed code blocks\n",
    "- the answer to the questions asked in this lab\n",
    "\n",
    "You do not need to attach the data, other .py files, nor the output of the last section on multiple object tracking as we must be able to regenerate the output by running your notebook."
   ]
  },
  {
   "cell_type": "markdown",
   "id": "ce0cda47-022a-4e9c-b856-d83af185e4ff",
   "metadata": {},
   "source": [
    "# Introduction on Gaussian distributions"
   ]
  },
  {
   "cell_type": "markdown",
   "id": "6b0cf53e-1b13-467e-aa97-d41e06e3b916",
   "metadata": {},
   "source": [
    "The Kalman filter is essentially a Bayesian filter that uses Gaussians. Let's see in 1D how we can use Gaussian distributions to encode priors about the location of a robot, and update them given measurements."
   ]
  },
  {
   "cell_type": "markdown",
   "id": "4c46ba8e-a8dd-4633-949b-ad6950f882d8",
   "metadata": {},
   "source": [
    "## Beliefs as Gaussians"
   ]
  },
  {
   "cell_type": "code",
   "execution_count": 2,
   "id": "3048d041-f88f-4baf-abbb-e471165e4ec1",
   "metadata": {},
   "outputs": [],
   "source": [
    "# Code the 1D Gaussian probability density function\n",
    "def Gaussian_pdf(x, mean=0., variance=1.):\n",
    "    \"\"\"\n",
    "    x: scalar or numpy.array\n",
    "    Returns N(x|mean,variance), the scalar or numpy array containing the Gaussian pdf evaluated at x.\n",
    "    \"\"\"\n",
    "\n",
    "    return (1./np.sqrt(2*np.pi*variance)) * np.exp(-0.5 * ((x-mean)**2)/variance)"
   ]
  },
  {
   "cell_type": "markdown",
   "id": "1413b0ec-d805-4689-96f4-02664cb5b64c",
   "metadata": {},
   "source": [
    "We can express our belief in the robot's position with a Gaussian. Say we believe that the robot is at 10 meters, and the variance in that belief is 1 $m^2$, or $\\mathcal{N}(10,\\, 1)$. A plot of the pdf follows:"
   ]
  },
  {
   "cell_type": "code",
   "execution_count": 3,
   "id": "75ba05c6-85da-4147-9b17-3984ae2efdd8",
   "metadata": {},
   "outputs": [
    {
     "data": {
      "image/png": "[encoded data removed]",
      "text/plain": [
       "<Figure size 800x400 with 1 Axes>"
      ]
     },
     "metadata": {},
     "output_type": "display_data"
    }
   ],
   "source": [
    "xs = np.linspace(4, 16, 100)\n",
    "ys = Gaussian_pdf(xs, mean=10.)\n",
    "\n",
    "plt.figure(figsize=(8, 4))\n",
    "plt.plot(xs, ys, label='$\\mathcal{N}(10,1)$')\n",
    "plt.ylim(0,.5)\n",
    "plt.grid(True)"
   ]
  },
  {
   "cell_type": "markdown",
   "id": "b1c23234-fc97-4c09-abd9-ea1cd752eb3a",
   "metadata": {},
   "source": [
    "This plot depicts our uncertainty about the robot's position. It represents a fairly inexact belief. While we believe that it is most likely that the robot is at 10 m, any position from 9 m to 11 m or so is quite likely as well."
   ]
  },
  {
   "cell_type": "markdown",
   "id": "9b93bb13-48be-4a64-a042-54117c8cea6b",
   "metadata": {},
   "source": [
    "## Predictions with Gaussians"
   ]
  },
  {
   "cell_type": "markdown",
   "id": "ca600b72-abad-4f21-89a1-38440be62d7e",
   "metadata": {},
   "source": [
    "Suppose starting from an uncertain position $x = \\mathcal{N}(10,\\, 1)$, the robot moves by an amount $\\epsilon = \\mathcal{N}(0,\\, 0.5^2)$. How do we compute the prior for the new location of the robot, given that both their initial location and move are uncertain?"
   ]
  },
  {
   "cell_type": "markdown",
   "id": "26d1571e-3af5-4566-a980-dd8bc32fbb2a",
   "metadata": {},
   "source": [
    "We make use of the fact that the sum of two independent Gaussians is again Gaussian, whose mean equals the sum of their means and whose variance equals the sum of their variance. In our case, this yields a prior $\\bar{x}=\\mathcal{N}(\\bar\\mu,\\, \\bar\\sigma^2)$ with:"
   ]
  },
  {
   "cell_type": "markdown",
   "id": "431e5d16-effa-4ef4-af85-f5f48509e00c",
   "metadata": {},
   "source": [
    "$$\\begin{aligned}\\bar\\mu &= \\mu_x + \\mu_\\epsilon = 10 + 0 &&= 10 \\\\\n",
    "\\bar\\sigma^2 &= \\sigma_x^2 + \\sigma_{\\epsilon}^2 = 1^2 + 0.5^2 &&= 1.25\\end{aligned}$$"
   ]
  },
  {
   "cell_type": "markdown",
   "id": "bde712d3-f518-47d7-a648-7b81ab24dce8",
   "metadata": {},
   "source": [
    "It makes sense that the predicted position is the previous position plus the movement. What about the variance? It is harder to form an intuition about this. However, we don't really know where the robot is moving, so the confidence should get smaller (variance gets larger). $\\sigma_{\\epsilon}^2$ is the amount of uncertainty added to the system due to the imperfect prediction about the movement, and so we would add that to the existing uncertainty."
   ]
  },
  {
   "cell_type": "markdown",
   "id": "27df411e-4224-4d93-afbf-5eb89af56c31",
   "metadata": {},
   "source": [
    "Let's implement this:"
   ]
  },
  {
   "cell_type": "code",
   "execution_count": 4,
   "id": "0e5dd3e7-e2f8-4844-9f36-3145520a079a",
   "metadata": {},
   "outputs": [],
   "source": [
    "from collections import namedtuple\n",
    "\n",
    "gaussian = namedtuple('Gaussian', ['mean', 'var'])\n",
    "gaussian.__repr__ = lambda s: f'𝒩(μ={s[0]:.3f}, 𝜎²={s[1]:.3f})'"
   ]
  },
  {
   "cell_type": "code",
   "execution_count": 5,
   "id": "4c43b22a-d314-403b-bcfd-ae0b76fbdd76",
   "metadata": {},
   "outputs": [],
   "source": [
    "# Implement the prediction update from above\n",
    "def predict(pos, movement):\n",
    "    \"\"\"\n",
    "    pos, movement: gaussian namedtuples\n",
    "    Returns: a gaussian namedtuple\n",
    "    \"\"\"\n",
    "    return gaussian(pos.mean + movement.mean, pos.var + movement.var)"
   ]
  },
  {
   "cell_type": "code",
   "execution_count": 6,
   "id": "dc5218f0-64a8-45f1-9577-d6774af42819",
   "metadata": {},
   "outputs": [
    {
     "data": {
      "text/plain": [
       "𝒩(μ=10.000, 𝜎²=1.250)"
      ]
     },
     "execution_count": 6,
     "metadata": {},
     "output_type": "execute_result"
    }
   ],
   "source": [
    "pos = gaussian(10., 1.**2)\n",
    "move = gaussian(0, 0.5**2)\n",
    "predict(pos, move)"
   ]
  },
  {
   "cell_type": "markdown",
   "id": "a7e45a80-3336-4579-ae17-6d3702fcc77b",
   "metadata": {},
   "source": [
    "The prior states that the robot is at 10 m with a variance of 1.25 $m^2$, which is what we computed by hand."
   ]
  },
  {
   "cell_type": "markdown",
   "id": "9637072f-3725-4bfa-aa23-fe3a1a655656",
   "metadata": {},
   "source": [
    "## Updates with Gaussians"
   ]
  },
  {
   "cell_type": "markdown",
   "id": "c7ad9c0e-02cc-415b-baf3-1d4a3ffe8e26",
   "metadata": {},
   "source": [
    "The likelihood is the probability of the measurement given the current state. We can represent measurements as Gaussians. For example, maybe our sensor states that the robot is at 12 m, with a standard deviation of 0.5 meters. Our measurement, expressed as a likelihood, is $z = \\mathcal N (12, 0.5^2)$."
   ]
  },
  {
   "cell_type": "markdown",
   "id": "1c8efb8d-1657-4b3f-a21f-bc8f5b4ee83e",
   "metadata": {},
   "source": [
    "Both the likelihood and prior are modeled with Gaussians. The update, a.k.a. the posterior, is obtained up to normalization by multiplying these Gaussians. After normalization, the product of these Gaussians is in turn a Gaussian $\\mathcal N(\\mu, \\sigma^2)$ as per slides 44-45."
   ]
  },
  {
   "cell_type": "markdown",
   "id": "6a53bd82-416a-43d3-b8ae-018bf764581b",
   "metadata": {},
   "source": [
    "$$\\begin{aligned}\n",
    "\\mathcal N(\\mu, \\sigma^2) &\\propto prior \\cdot likelihood \\\\\n",
    "&= \\mathcal{N}(\\bar\\mu, \\bar\\sigma^2)\\cdot \\mathcal{N}(\\mu_z, \\sigma_z^2) \\\\\n",
    "&\\propto \\mathcal N(\\frac{\\bar\\sigma^2 \\mu_z + \\sigma_z^2 \\bar\\mu}{\\bar\\sigma^2 + \\sigma_z^2},\\frac{\\bar\\sigma^2\\sigma_z^2}{\\bar\\sigma^2 + \\sigma_z^2})\n",
    "\\end{aligned}$$"
   ]
  },
  {
   "cell_type": "markdown",
   "id": "163b059a-6fdf-4ea3-8d7d-6fe311f1a4ef",
   "metadata": {},
   "source": [
    "Let's implement this:"
   ]
  },
  {
   "cell_type": "code",
   "execution_count": 7,
   "id": "cc8f16f7-8d30-438d-a837-cc73e50c7935",
   "metadata": {},
   "outputs": [],
   "source": [
    "# Implement the update obtained by multiplying prior and likelihood as in the formula above\n",
    "def gaussian_multiply(g1, g2):\n",
    "    \"\"\"\n",
    "    g1, g2: Gaussian namedtuples\n",
    "    Returns: a Gaussian namedtuple that is (up to renormalization) the product of g1 and g2\n",
    "    \"\"\"\n",
    "    return gaussian((g1.mean*g2.var + g2.mean*g1.var)/(g1.var + g2.var), 1/(1/g1.var + 1/g2.var))\n",
    "\n",
    "def update(prior, likelihood):\n",
    "    \"\"\"\n",
    "    prior, likelihood: Gaussian namedtuples\n",
    "    Returns: a Gaussian namedtuple\n",
    "    \"\"\"\n",
    "    posterior = gaussian_multiply(likelihood, prior)\n",
    "    \n",
    "    return posterior"
   ]
  },
  {
   "cell_type": "code",
   "execution_count": 8,
   "id": "a5bc2143-9f9d-4a38-b4c3-19f24ea34df1",
   "metadata": {},
   "outputs": [
    {
     "data": {
      "text/plain": [
       "𝒩(μ=11.667, 𝜎²=0.208)"
      ]
     },
     "execution_count": 8,
     "metadata": {},
     "output_type": "execute_result"
    }
   ],
   "source": [
    "# Test the update function\n",
    "predicted_pos = gaussian(10., 1.25)\n",
    "measured_pos = gaussian(12., 0.5**2)\n",
    "estimated_pos = update(predicted_pos, measured_pos)\n",
    "estimated_pos"
   ]
  },
  {
   "cell_type": "markdown",
   "id": "73fe2398-1b74-4569-887e-b29025dfddce",
   "metadata": {},
   "source": [
    "### Understanding Gaussian multiplication\n",
    "\n",
    "Let's plot the pdf of $\\mathcal{N}(10,\\, 1) \\times \\mathcal{N}(10,\\, 1)$. Can you determine its shape without looking at the result? What should the new mean be? Will the curve be wider, narrower, or the same as $\\mathcal{N}(10,\\, 1)$?"
   ]
  },
  {
   "cell_type": "markdown",
   "id": "c78bdc21",
   "metadata": {},
   "source": [
    "When multiplying two identical Gaussian distributions, $\\mathcal{N}(\\mu, \\sigma^2)$ by itself, we are effectively reinforcing our belief about the parameter's distribution without changing its mean but affecting its variance due to increased precision. In this specific case, where both distributions are $\\mathcal{N}(10, 1)$, let's apply the Bayesian updating concept to see the effect on the variance and mean, even though the actual operation differs slightly from Bayesian updating due to the nature of the multiplication.\n",
    "\n",
    "Given two identical Gaussians, the formulas for updating the mean and variance become:\n",
    "\n",
    "1. **Variance of the Posterior:**\n",
    "\n",
    "$$\n",
    "\\sigma_{\\text{post}}^2 = \\left( \\frac{1}{\\sigma^2} + \\frac{1}{\\sigma^2} \\right)^{-1} = \\left( \\frac{2}{\\sigma^2} \\right)^{-1} = \\frac{\\sigma^2}{2}\n",
    "$$\n",
    "\n",
    "For $\\sigma^2 = 1$, we get:\n",
    "\n",
    "$$\n",
    "\\sigma_{\\text{post}}^2 = \\frac{1}{2}\n",
    "$$\n",
    "\n",
    "2. **Mean of the Posterior:**\n",
    "\n",
    "Since the distributions are identical, the mean remains the same, $\\mu_{\\text{post}} = \\mu$. Therefore, for $\\mu = 10$, the mean does not change:\n",
    "\n",
    "$$\n",
    "\\mu_{\\text{post}} = 10\n",
    "$$\n",
    "\n",
    "These equations support the notion that when multiplying two identical Gaussian distributions, the resulting distribution has the same mean as the originals, $\\mu_{\\text{post}} = 10$, but the variance is halved, $\\sigma_{\\text{post}}^2 = \\frac{1}{2}$, indicating that the resulting PDF is narrower than the original $\\mathcal{N}(10, 1)$. This is because multiplying the PDFs concentrates the probability mass around the mean, reflecting increased certainty (or reduced variance) about the parameter's value."
   ]
  },
  {
   "cell_type": "code",
   "execution_count": 9,
   "id": "dadfdba4-9319-4542-a287-95520ade8bf7",
   "metadata": {},
   "outputs": [
    {
     "name": "stdout",
     "output_type": "stream",
     "text": [
      "𝒩(μ=10.000, 𝜎²=0.500)\n"
     ]
    },
    {
     "data": {
      "image/png": "[encoded data removed]",
      "text/plain": [
       "<Figure size 1000x600 with 1 Axes>"
      ]
     },
     "metadata": {},
     "output_type": "display_data"
    }
   ],
   "source": [
    "z = gaussian(10., 1.)  # Gaussian N(10, 1)\n",
    "product = gaussian_multiply(z, z)\n",
    "\n",
    "plt.figure(figsize=(10, 6))\n",
    "\n",
    "xs = np.linspace(5, 15, 100)\n",
    "ys = Gaussian_pdf(xs, z.mean, z.var)\n",
    "plt.plot(xs, ys, label='$\\mathcal{N}(10,1)$')\n",
    "\n",
    "ys = Gaussian_pdf(xs, product.mean, product.var)\n",
    "plt.plot(xs, ys, label='$\\mathcal{N}(10,1) \\\\times \\mathcal{N}(10,1)$', ls='--')\n",
    "plt.legend()\n",
    "plt.grid(True)\n",
    "\n",
    "print(product)"
   ]
  },
  {
   "cell_type": "markdown",
   "id": "b30db142-51e3-493e-9eaf-1a649991a586",
   "metadata": {},
   "source": [
    "The result of the multiplication is taller and narrow than the original Gaussian but the mean is unchanged. Does this match your intuition?"
   ]
  },
  {
   "cell_type": "markdown",
   "id": "32126a51",
   "metadata": {},
   "source": [
    "Yes, it is described previously."
   ]
  },
  {
   "cell_type": "markdown",
   "id": "29ba1622-7789-4f39-814c-429c8e7d6571",
   "metadata": {},
   "source": [
    "Now let's plot the pdf of $\\mathcal{N}(10.4,\\, 1) \\times \\mathcal{N}(9.6,\\, 1)$. What do you think the result will be?"
   ]
  },
  {
   "cell_type": "markdown",
   "id": "7eb5129b",
   "metadata": {},
   "source": [
    "When we multiply the PDFs of two Gaussian distributions that are not identical, such as $\\mathcal{N}(10.4, 1)$ and $\\mathcal{N}(9.6, 1)$, the resulting distribution will reflect a combination of the information from both distributions. Since these distributions have different means but the same variance, the resulting distribution's mean will be somewhere between the two original means, influenced by their variances. In this case, since the variances are equal, the resulting mean should be roughly the average of the two means.\n",
    "\n",
    "Given that the two distributions are $\\mathcal{N}(\\mu_1, \\sigma_1^2) = \\mathcal{N}(10.4, 1)$ and $\\mathcal{N}(\\mu_2, \\sigma_2^2) = \\mathcal{N}(9.6, 1)$, the resulting variance $\\sigma_{\\text{post}}^2$ and mean $\\mu_{\\text{post}}$ of the combined distribution can be calculated using the Bayesian updating formulas adapted for this context:\n",
    "\n",
    "1. **Variance of the Posterior:**\n",
    "\n",
    "$$\n",
    "\\sigma_{\\text{post}}^2 = \\left( \\frac{1}{\\sigma_1^2} + \\frac{1}{\\sigma_2^2} \\right)^{-1} = \\left( \\frac{1}{1} + \\frac{1}{1} \\right)^{-1} = \\frac{1}{2}\n",
    "$$\n",
    "\n",
    "2. **Mean of the Posterior:**\n",
    "\n",
    "$$\n",
    "\\mu_{\\text{post}} = \\sigma_{\\text{post}}^2 \\left( \\frac{\\mu_1}{\\sigma_1^2} + \\frac{\\mu_2}{\\sigma_2^2} \\right) = \\frac{1}{2} \\left( \\frac{10.4}{1} + \\frac{9.6}{1} \\right) = 10\n",
    "$$\n",
    "\n",
    "Thus, the resulting distribution after multiplying these two Gaussian PDFs and normalizing would have a mean $\\mu_{\\text{post}} = 10$ and a variance $\\sigma_{\\text{post}}^2 = \\frac{1}{2}$, indicating that the PDF will be centered at the mean value between the two original means with a variance that is smaller than either of the original variances. This results in a distribution that is narrower than either of the original distributions, indicating increased certainty (or reduced variance) about the parameter's value. The process effectively \"averages\" the means while reducing the variance due to the added information from both distributions."
   ]
  },
  {
   "cell_type": "code",
   "execution_count": 10,
   "id": "70f59d8a-a8db-4b6b-bf34-104e197d2177",
   "metadata": {},
   "outputs": [
    {
     "data": {
      "image/png": "[encoded data removed]",
      "text/plain": [
       "<Figure size 1000x600 with 1 Axes>"
      ]
     },
     "metadata": {},
     "output_type": "display_data"
    }
   ],
   "source": [
    "def plot_products(g1, g2): \n",
    "    plt.figure(figsize=(10, 6))\n",
    "    product = gaussian_multiply(g1, g2)\n",
    "\n",
    "    xs = np.linspace(5, 15, 100)\n",
    "    ys = Gaussian_pdf(xs, g1.mean, g1.var)\n",
    "    plt.plot(xs, ys, label='$\\mathcal{N}$' + f'$({g1.mean},{g1.var})$')\n",
    "\n",
    "    ys = Gaussian_pdf(xs, g2.mean, g2.var)\n",
    "    plt.plot(xs, ys, label='$\\mathcal{N}$' + f'$({g2.mean},{g2.var})$')\n",
    "\n",
    "    ys = Gaussian_pdf(xs, product.mean, product.var)\n",
    "    plt.plot(xs, ys, label='product', ls='--')\n",
    "    plt.legend();\n",
    "    plt.grid(True)\n",
    "    plt.show()\n",
    "    \n",
    "z1 = gaussian(10.4, 1)\n",
    "z2 = gaussian(9.6, 1)\n",
    " \n",
    "plot_products(z1, z2)"
   ]
  },
  {
   "cell_type": "markdown",
   "id": "4af0a8be-731e-4546-a746-dcedebdc8446",
   "metadata": {},
   "source": [
    "Finally, consider the case where one of the Gaussian distributions is much narrower than the other. Which of the means is closest to the mean of the resulting product distribution? Compare the width of the product Gaussian to the widths of the respective Gaussians forming the product."
   ]
  },
  {
   "cell_type": "markdown",
   "id": "9b1bc388",
   "metadata": {},
   "source": [
    "When one of the Gaussian distributions is much narrower than the other, it essentially has a much smaller variance, indicating higher certainty or precision regarding the value it represents. In Bayesian terms, a distribution with a smaller variance (narrower width) is considered to have more \"information\" about the parameter it estimates.\n",
    "\n",
    "Let's consider two Gaussian distributions: $\\mathcal{N}(\\mu_1, \\sigma_1^2)$, where $\\sigma_1^2$ is small (the narrower distribution), and $\\mathcal{N}(\\mu_2, \\sigma_2^2)$, where $\\sigma_2^2$ is large (the wider distribution). The mean of the resulting product distribution will be closer to $\\mu_1$ of the narrower distribution because the precision (inverse of variance) of the narrower distribution is much higher, and thus, it has a greater influence on the resulting mean.\n",
    "\n",
    "The variance of the resulting distribution can be calculated using the formula for combining variances in a Bayesian updating context:\n",
    "\n",
    "$$\n",
    "\\sigma_{\\text{post}}^2 = \\left( \\frac{1}{\\sigma_1^2} + \\frac{1}{\\sigma_2^2} \\right)^{-1}\n",
    "$$\n",
    "\n",
    "Since $\\sigma_1^2$ is much smaller than $\\sigma_2^2$, $\\frac{1}{\\sigma_1^2}$ will be much larger than $\\frac{1}{\\sigma_2^2}$, making the resulting $\\sigma_{\\text{post}}^2$ smaller than $\\sigma_2^2$ but likely larger than $\\sigma_1^2$. This means that the width of the product Gaussian will be narrower than the wider original Gaussian but wider than the narrower original Gaussian. The precision of the resulting distribution is a weighted sum of the precisions of the two original distributions, heavily influenced by the more precise (narrower) distribution."
   ]
  },
  {
   "cell_type": "markdown",
   "id": "d4d0b64c-40bd-4749-98dc-5410ed586b00",
   "metadata": {},
   "source": [
    "# Kalman filter tracking of robot trajectory"
   ]
  },
  {
   "cell_type": "markdown",
   "id": "8cebeb95-6320-44c1-b4ab-0ea75ad0e84f",
   "metadata": {},
   "source": [
    "We will apply Kalman filtering to track the location of a robot in 1D. The robot moves during each time step and its new location is sensed with some measurement error. We will filter the noisy measurements to track the location over time."
   ]
  },
  {
   "cell_type": "markdown",
   "id": "30090619-6a67-48eb-a69c-2bb1be277453",
   "metadata": {},
   "source": [
    "You will assume the robot moves with constant velocity and implement a constant velocity state transition model. The state is thus 2-dimensional and consists of the location $x$ of the robot and its velocity $v$ (similar to slide 17 but in 1D). We assume measurements are acquired at time intervals of $\\Delta t=1$ s."
   ]
  },
  {
   "cell_type": "markdown",
   "id": "56fdfe3c-ae91-4f8d-b4c6-5bd5d4b61513",
   "metadata": {},
   "source": [
    "You first have to complete the KalmanFilter implementation in the cell below. It implements a general purpose Kalman filter as per the predict and update equations presented in the slides 47-50."
   ]
  },
  {
   "cell_type": "code",
   "execution_count": 49,
   "id": "0755d97d-180f-4b1d-aba1-f7b65873b529",
   "metadata": {},
   "outputs": [],
   "source": [
    "class KalmanFilter(object):\n",
    "    \"\"\"\n",
    "    Implements a Kalman filter.\n",
    "    \n",
    "    Parameters:\n",
    "    \n",
    "    dim_x : int\n",
    "        Number of state variables for the Kalman filter. For example, if\n",
    "        you are tracking the position and velocity of an object in one\n",
    "        dimension, dim_x would be 2.\n",
    "    dim_z : int\n",
    "        Number of measurement inputs. For example, if the sensor\n",
    "        provides you with position in one dimension, dim_z would be 1.\n",
    "        \n",
    "        \n",
    "    Attributes:\n",
    "    \n",
    "    x : numpy.array(dim_x, 1) (preferred) or numpy.array(dim_x,)\n",
    "        Current state estimate. Any call to update() or predict() updates\n",
    "        this variable.\n",
    "    P : numpy.array(dim_x, dim_x)\n",
    "        Current state covariance matrix. Any call to update() or predict()\n",
    "        updates this variable.\n",
    "    Q : numpy.array(dim_x, dim_x)\n",
    "        Process noise covariance matrix. \n",
    "    R : numpy.array(dim_z, dim_z)\n",
    "        Measurement noise covariance matrix.\n",
    "    F : numpy.array(dim_x, dim_x)\n",
    "        State Transition matrix.\n",
    "    H : numpy.array(dim_z, dim_x)\n",
    "        Measurement/observation matrix.\n",
    "        \n",
    "        \n",
    "    You are responsible for initializing x and P to reasonable values (for instance x to 0 and large P), \n",
    "    as well as providing Q, R, F, H. \n",
    "    \n",
    "    f = KalmanFilter(dim_x=..., dim_z=...)\n",
    "    \n",
    "    f.x = np.array([[...], ...])  # state\n",
    "    f.P = np.array([[...], ...])  # covariance matrix\n",
    "    f.Q = np.array([[...], ...])  # process noise covariance matrix\n",
    "    f.R = np.array([[...], ...])  # measurement noise covariance matrix\n",
    "    f.F = np.array([[...], ...])  # state transition matrix\n",
    "    f.H = np.array([[...], ...])  # measurement matrix\n",
    "\n",
    "    \n",
    "    Then using the filter will look like a succession of predict/update steps:\n",
    "    \n",
    "    while new time step:\n",
    "        f.predict()\n",
    "        z = read_measurement(...)\n",
    "        f.update(z)\n",
    "\n",
    "    \"\"\"\n",
    "    \n",
    "    def __init__(self, dim_x, dim_z):\n",
    "        if dim_x < 1:\n",
    "            raise ValueError('dim_x must be 1 or greater')\n",
    "        if dim_z < 1:\n",
    "            raise ValueError('dim_z must be 1 or greater')\n",
    "            \n",
    "        self.dim_x = dim_x\n",
    "        self.dim_z = dim_z\n",
    "        \n",
    "        # Initialize with zeros or identity when possible\n",
    "\n",
    "        # state (mean), initialize with zeros\n",
    "        self.x = np.zeros((dim_x, 1))\n",
    "\n",
    "        # uncertainty covariance, initialize with identity\n",
    "        self.P = np.eye(dim_x)\n",
    "\n",
    "        # process uncertainty, initialize with identity\n",
    "        self.Q = np.eye(dim_x)\n",
    "\n",
    "        # state transition matrix, initialize with identity\n",
    "        self.F = np.eye(dim_x)\n",
    "\n",
    "        # measurement matrix, initialize with zeros\n",
    "        self.H = np.zeros((dim_z, dim_x))\n",
    "\n",
    "        # measurement uncertainty, initialize with identity\n",
    "        self.R = np.eye(dim_z)\n",
    "        \n",
    "    \n",
    "    def predict(self, F=None, Q=None):\n",
    "        \"\"\"\n",
    "        Predict next state (a priori) using the Kalman filter state transition equation\n",
    "        \n",
    "        F : np.array(dim_x, dim_x), or None\n",
    "            Optional state transition matrix\n",
    "        Q : np.array(dim_x, dim_x), or None\n",
    "            Optional process noise matrix\n",
    "            \n",
    "        Returns: \n",
    "            Nothing, state self.x and covariance self.P are updated in place \n",
    "        \"\"\"\n",
    "        \n",
    "        if F is None:\n",
    "            F = self.F\n",
    "        if Q is None:\n",
    "            Q = self.Q\n",
    "            \n",
    "        # Mean update\n",
    "        self.x = F @ self.x\n",
    "        \n",
    "        # Covariance update\n",
    "        self.P = F @ self.P @ F.T + Q\n",
    "        \n",
    "    def update(self, z, R=None, H=None):\n",
    "        \"\"\"\n",
    "        Update the state (a posteriori) in response to a new measurement z.\n",
    "        \n",
    "        z : (dim_z, 1) or (dim_z,)\n",
    "            measurement for this update.\n",
    "        R : np.array(dim_z, dim_z), or None\n",
    "            Optionally provide R to override the measurement noise for this\n",
    "            one call.\n",
    "        H : np.array(dim_z, dim_x), or None\n",
    "            Optionally provide H to override the measurement matrix for this\n",
    "            one call.\n",
    "        \n",
    "        Returns: \n",
    "            Nothing, state self.x and covariance self.P are updated in place \n",
    "        \"\"\"\n",
    "        \n",
    "        if R is None:\n",
    "            R = self.R\n",
    "        if H is None:\n",
    "            H = self.H\n",
    "            \n",
    "        # Innovation\n",
    "        y = z - H @ self.x\n",
    "        \n",
    "        # Innovation covariance\n",
    "        S = H @ self.P @ H.T + R\n",
    "        \n",
    "        # Kalman gain\n",
    "        K = self.P @ H.T @ np.linalg.inv(S)\n",
    "        \n",
    "        # New state mean\n",
    "        self.x = self.x + K @ y\n",
    "        \n",
    "        # New state covariance (you can use the symmetric formula from slide 50 for stability)\n",
    "        self.P = (np.eye(self.dim_x) - K @ H) @ self.P"
   ]
  },
  {
   "cell_type": "markdown",
   "id": "bde1b4db-fae5-4bf4-9613-a272af57ef04",
   "metadata": {},
   "source": [
    "You then have to complete the code blocks below."
   ]
  },
  {
   "cell_type": "code",
   "execution_count": 50,
   "id": "0413ca2f-2205-437b-9284-88abc789d7bf",
   "metadata": {},
   "outputs": [],
   "source": [
    "from robot_simulation import RobotSimulation"
   ]
  },
  {
   "cell_type": "code",
   "execution_count": 51,
   "id": "f50ebe61-1016-44d0-9ba1-e2f21f72695c",
   "metadata": {},
   "outputs": [],
   "source": [
    "# This code generates the (walk and) measurements at each of N timesteps spaced by a time interval of delta_t = 1.0\n",
    "\n",
    "process_std = .5\n",
    "measurement_std = 2.\n",
    "N = 25\n",
    "\n",
    "robot = RobotSimulation(0, 1.0, measurement_std, process_std)\n",
    "zs = [np.array([robot.move_and_locate()]) for _ in range(N)] # Array of measurements at each time step"
   ]
  },
  {
   "cell_type": "code",
   "execution_count": 58,
   "id": "365aa86b-1c37-45c3-b43e-71cad2b3f636",
   "metadata": {},
   "outputs": [],
   "source": [
    "# Initialize the Kalman filter\n",
    "kf = KalmanFilter(dim_x=2, dim_z=1)\n",
    "\n",
    "# Initialize the location and velocity at 0.\n",
    "kf.x = np.array([0., 0.])\n",
    "# Initialize the variance of the location at 20^2. and the variance of the velocity at 2^2.\n",
    "kf.P = np.diag([20**2, 2**2])\n",
    "\n",
    "# Set the transition matrix to that corresponding to a constant velocity model\n",
    "kf.F = np.array([[1., 1.], [0., 1.]])\n",
    "# Set the process noise variance to process_std^2 for the location and 0.1^2 for the velocity\n",
    "kf.Q = np.diag([process_std**2, 0.1**2])\n",
    "# Set the measurement matrix to only observe the location\n",
    "kf.H = np.array([[1., 0.]])\n",
    "# Set the measurement matrix to only observe the location\n",
    "kf.R = np.array([[measurement_std**2]])\n",
    "\n",
    "# Run the Kalman filter at each timestep and store the predictions in the arrays below\n",
    "\n",
    "priors = np.zeros((N, 2)) # store the prediction of the location before each measurement along with its variance\n",
    "xs = np.zeros((N+1, 2)) # store the (initial location and the) prediction of the location after each measurement + its variance\n",
    "vs = np.zeros((N+1, 2)) # store the (initial velocity and the) velocity after each measurement along with the predicted variance \n",
    "\n",
    "xs[0,:] = [kf.x[0], kf.P[0,0]]\n",
    "vs[0,:] = [kf.x[1], kf.P[1,1]]\n",
    "\n",
    "for i, z in enumerate(zs):\n",
    "    # Run the predict/update steps of the Kalman filter and fill priors, xs and vs\n",
    "    kf.predict()\n",
    "\n",
    "    # fill the priors after calling .predict()\n",
    "    priors[i,:] = [kf.x[0], kf.P[0, 0]]\n",
    "    \n",
    "    # fill xs and vs after calling .update(...)\n",
    "    \n",
    "    kf.update(z)\n",
    "    xs[i+1,:] = [kf.x[0], kf.P[0, 0]]\n",
    "    vs[i+1,:] = [kf.x[1], kf.P[1, 1]]"
   ]
  },
  {
   "cell_type": "code",
   "execution_count": 59,
   "id": "d61a1f88-ee9f-4f2e-92dc-3fdfb86ebee4",
   "metadata": {},
   "outputs": [],
   "source": [
    "def plot_filter(xs, var, c='C0', **kwargs):\n",
    "    ys = xs\n",
    "    xs = range(len(ys))\n",
    "    \n",
    "    lines = plt.plot(xs, ys, color=c, label='Filter', **kwargs)\n",
    "\n",
    "    std = np.sqrt(var)\n",
    "    std_top = ys+std\n",
    "    std_btm = ys-std\n",
    "\n",
    "    plt.plot(xs, ys+std, linestyle=':', color='k', lw=2)\n",
    "    plt.plot(xs, ys-std, linestyle=':', color='k', lw=2)\n",
    "    plt.fill_between(xs, std_btm, std_top,\n",
    "                     facecolor='yellow', alpha=0.2)"
   ]
  },
  {
   "cell_type": "code",
   "execution_count": 60,
   "id": "65a15127-2b37-4620-82e3-436fa2e5ddd5",
   "metadata": {},
   "outputs": [
    {
     "data": {
      "image/png": "[encoded data removed]",
      "text/plain": [
       "<Figure size 900x500 with 1 Axes>"
      ]
     },
     "metadata": {},
     "output_type": "display_data"
    }
   ],
   "source": [
    "plt.figure(figsize=(9, 5))\n",
    "plt.scatter(range(1,len(zs)+1), zs, edgecolor='k', facecolor='none',\n",
    "                        lw=2, label='Measurements')\n",
    "plot_filter(xs[:,0], xs[:,1])\n",
    "plt.scatter(range(1,len(priors)+1), priors[:,0], marker='v', s=40, edgecolor='r',\n",
    "                facecolor='None', lw=2, label='Predictions')\n",
    "plt.legend(loc='center left', bbox_to_anchor=(1, 0.5))\n",
    "plt.xlabel('time')\n",
    "plt.ylabel('position')\n",
    "plt.title('Kalman filter')\n",
    "plt.grid(True)"
   ]
  },
  {
   "cell_type": "markdown",
   "id": "14d855f8-6a1a-4ece-bc4c-a0e16b7f0b12",
   "metadata": {},
   "source": [
    "What can you say at each timestep of the position of the filtered estimate compared to the position of the measurement and of the prior?"
   ]
  },
  {
   "cell_type": "markdown",
   "id": "45dd9448",
   "metadata": {},
   "source": [
    "The filtered estimate tends to smooth out the noise present in the actual measurements. It does not follow every measurement exactly, especially when the measurements are noisy. Instead, it provides a more stable estimate of the position that accounts for both the latest measurement and the previous state estimate.\n",
    "\n",
    "The predictions are the estimates of the position before the next measurement is taken into account. They are based on the model's understanding of the system's dynamics (constant velocity or acceleration). The filtered estimate adjusts these predictions to account for the actual measurement. When the predictions are close to the measurements, the filtered estimate doesn't adjust much. When there's a larger discrepancy, the filtered estimate moves towards the measurement, but not all the way, balancing between the prediction and the new data.\n",
    "\n",
    "At the beginning, the filtered estimate starts far from the first measurement due to an initial guess or prior that is far from the actual system state. As more measurements are obtained, the filtered estimate rapidly converges towards the true state. During periods where the measurements are relatively stable or change smoothly, the filtered estimate closely follows the measurements, indicating high confidence in the model's predictions and the measurement accuracy. During periods of rapid change or high measurement noise, the filtered estimate shows a more moderate change, smoothing out the erratic behavior of the raw measurements, which is characteristic of the Kalman filter's ability to reduce the impact of random noise."
   ]
  },
  {
   "cell_type": "markdown",
   "id": "8d3f0c86-c604-472b-bfe9-4dc499d25b25",
   "metadata": {},
   "source": [
    "Print the standard deviation of the location before (a priori) and after (a posteriori) each measurement. What can you say about it? Compare to the measurement standard deviation."
   ]
  },
  {
   "cell_type": "code",
   "execution_count": null,
   "id": "c7c0a618",
   "metadata": {},
   "outputs": [],
   "source": [
    "# Print the standard deviation of the location before and after each measurement\n",
    "print('Before measurement:')\n",
    "print(np.sqrt(priors[:,1]))\n",
    "print('')\n",
    "print('After measurement:')\n",
    "print(np.sqrt(vs[1:,1]))\n",
    "\n",
    "# Compare to the measurement standard deviation\n",
    "print('')\n",
    "print('Measurement standard deviation:')\n",
    "print(measurement_std)"
   ]
  },
  {
   "cell_type": "markdown",
   "id": "c0e8ae57",
   "metadata": {},
   "source": [
    "The Kalman filter is doing what it's designed to do: fuse noisy measurements with predictions to produce a better estimate of the true state, with lower uncertainty than either the measurements or predictions alone could provide. Moreover, the standard deviation (SD) values for the location before (a priori) and after (a posteriori) each measurement can tell a lot about the behavior of the Kalman filter over time.\n",
    "\n",
    "The a priori SD values represent the estimate uncertainty before the measurement update step in the Kalman filter. These values are expected to increase over time as the model predicts the future state because, without new measurements, the uncertainty about the position increases.\n",
    "\n",
    "The a posteriori SD values represent the estimate uncertainty after the measurement update step. After each measurement update, the Kalman filter incorporates the new data to correct the estimate, which typically decreases the uncertainty.\n",
    "\n",
    "1. The a priori SD starts with `0` (at the initial step, the position might be assumed with certainty), and it increases with time as the model predicts future states, peaking around the fourth timestep before gradually decreasing. This decrease suggests that the model is becoming more certain about the position over time as it incorporates more measurements.\n",
    "\n",
    "2. The a posteriori SD starts quite high (reflecting initial uncertainty after the first measurement) and decreases significantly after the first measurement. It continues to decrease over time but at a slower rate, suggesting that each new measurement is providing less new information as the estimate becomes more refined. This is expected behavior, as the Kalman filter converges and the corrections from new measurements become smaller.\n",
    "\n",
    "3. The measurement SD is constant at `2.0`. This indicates the amount of noise or error in the measurements themselves is assumed to be constant over time.\n",
    "\n",
    "Comparing the a priori and a posteriori SD to the measurement SD, we can see that:\n",
    "\n",
    "- The a posteriori SD is always less than the measurement SD, indicating that the Kalman filter is effectively reducing the uncertainty in the position estimate with each measurement update.\n",
    "\n",
    "- The a priori SD is sometimes greater than the measurement SD, especially at the beginning, reflecting higher uncertainty in the predictions before the measurements are taken into account."
   ]
  },
  {
   "cell_type": "markdown",
   "id": "c947ab21-fd92-4d0a-b223-9430b9440966",
   "metadata": {},
   "source": [
    "**Bonus question**. The robot model implemented in RobotSimulation is very close to the constant velocity model that we assume in the Kalman filter. As a variant, generate the walk according to a different robot model than the one proposed in RobotSimulation (for instance any function of time). Does the Kalman filter still behave adequately? If not, what could you change to improve its behavior?"
   ]
  },
  {
   "cell_type": "code",
   "execution_count": null,
   "id": "c2791cbe",
   "metadata": {},
   "outputs": [],
   "source": [
    "# Generate the walk according to a different robot model (any function time)\n",
    "def walk(t):\n",
    "    return 1.5*np.sin(0.1*t)\n",
    "\n",
    "# Generate the measurements according to a different robot model (any function of time)\n",
    "def measure(t):\n",
    "    return 1.5*np.sin(0.1*t) + np.random.normal(0, 2)\n",
    "\n",
    "# This code generates the (walk and) measurements at each of N timesteps spaced by a time interval of delta_t = 1.0\n",
    "\n",
    "N = 25\n",
    "\n",
    "zs = [np.array([measure(t)]) for t in range(N)] # Array of measurements at each time step\n",
    "\n",
    "# Initialize the Kalman filter\n",
    "kf = KalmanFilter(dim_x=2, dim_z=1)\n",
    "\n",
    "# Initialize the location and velocity at 0.\n",
    "kf.x = np.array([[0.], [0.]])\n",
    "# Initialize the variance of the location at 20^2. and the variance of the velocity at 2^2.\n",
    "kf.P = np.array([[20**2, 0], [0, 2**2]])\n",
    "\n",
    "# Set the transition matrix to that corresponding to a constant velocity model\n",
    "kf.F = np.array([[1., 1.], [0., 1.]])\n",
    "# Set the process noise variance to process_std^2 for the location and 0.1^2 for the velocity\n",
    "kf.Q = np.array([[process_std**2, 0], [0, 0.1**2]])\n",
    "# Set the measurement matrix to only observe the location\n",
    "kf.H = np.array([[1., 0.]])\n",
    "# Set the measurement matrix to only observe the location\n",
    "kf.R = np.array([[measurement_std**2]])\n",
    "\n",
    "# Run the Kalman filter at each timestep and store the predictions in the arrays below\n",
    "\n",
    "priors = np.zeros((N, 2)) # store the prediction of the location before each measurement along with its variance\n",
    "xs = np.zeros((N+1, 2)) # store the (initial location and the) prediction of the location after each measurement + its variance\n",
    "vs = np.zeros((N+1, 2)) # store the (initial velocity and the) velocity after each measurement along with the predicted variance\n",
    "\n",
    "xs[0,:] = kf.x[:,0]\n",
    "vs[0,:] = np.diag(kf.P)\n",
    "\n",
    "for i, z in enumerate(zs):\n",
    "    # Run the predict/update steps of the Kalman filter and fill priors, xs and vs\n",
    "\n",
    "    # fill the priors after calling .predict()\n",
    "    priors[i,:] = kf.x[:,0]\n",
    "    \n",
    "    # fill xs and vs after calling .update(...)\n",
    "    kf.predict()\n",
    "    kf.update(z)\n",
    "    xs[i+1,:] = kf.x[:,0]\n",
    "    vs[i+1,:] = np.diag(kf.P)\n",
    "\n",
    "plt.figure(figsize=(10, 6))\n",
    "plt.scatter(range(1,len(zs)+1), zs, edgecolor='k', facecolor='none',\n",
    "                        lw=2, label='Measurements')\n",
    "plot_filter(xs[:,0], xs[:,1])\n",
    "plt.scatter(range(1,len(priors)+1), priors[:,0], marker='v', s=40, edgecolor='r',\n",
    "                facecolor='None', lw=2, label='Predictions')\n",
    "plt.legend(loc='center left', bbox_to_anchor=(1, 0.5))\n",
    "plt.xlabel('time')\n",
    "plt.ylabel('position')\n",
    "plt.title('Kalman filter')\n",
    "plt.grid(True)\n"
   ]
  },
  {
   "cell_type": "markdown",
   "id": "9efad7e1-97c2-4214-84dc-46f58f6bfc46",
   "metadata": {},
   "source": [
    "# Multiple Object Tracking"
   ]
  },
  {
   "cell_type": "markdown",
   "id": "e9202f7d-0dbb-44e4-9c83-1fb761a22de1",
   "metadata": {},
   "source": [
    "We now turn to multiple object tracking of pedestrians in video input, using the framework of tracking-by-detection as proposed in \"Simple Online and Realtime Tracking\" (Bewley et al., IEEE ICIP 2016). The gist of the framework is explained in slides 2-8 of Lecture 2 on Object Tracking."
   ]
  },
  {
   "cell_type": "markdown",
   "id": "9e1181f3-af1e-4e3a-adc8-382ba3814530",
   "metadata": {},
   "source": [
    "On each new frame, a pedestrian detector is run to find the frame detections. Each detection is associated to an existing track, and new tracks are created for unmatched detections (unmatched tracks are deleted after a few frames without a match). Each individual track is maintained and updated by a Kalman filter."
   ]
  },
  {
   "cell_type": "markdown",
   "id": "5004a263-a5a1-45ec-91cc-7d96533bcc56",
   "metadata": {},
   "source": [
    "In tracking-by-detection, object detectors are typically deep learning models. In this practical work, we will assume for convenience that detections are given to us rather than implementing or running a DL model. These are the columns 3 to 7 in the file 'data/KITTI-17_det.txt', where detection bounding boxes are in the format $[x1,y1,w,h]$, with $x1,y1$ the coordinates of the left-top corner, $w$ the width of the box and $h$ the height."
   ]
  },
  {
   "cell_type": "markdown",
   "id": "962297f7-d479-479b-aca5-d23782955c23",
   "metadata": {},
   "source": [
    "You can visualize what detections look like by opening the video 'data/KITTI-17_detections.webm' (you do not need this file in the remaining of the practical work)."
   ]
  },
  {
   "cell_type": "markdown",
   "id": "a90ac9b5-fcad-4c44-93ba-1bc27aa38d32",
   "metadata": {},
   "source": [
    "The code presented here implements the other steps of track prediction, data association and track update. In this version, the Kalman filter maintains the bounding box in the form of the bounding box center coordinates $x,y$, the bounding box area $s$ (width$\\times$height), and the aspect ration $r$ (width/height). In addition a constant velocity model is used on $x,y,s$ ($r$ is supposed constant). Therefore the internal state is 7-dimensional $[x,y,s,r,\\dot{x},\\dot{y},\\dot{s}]$. As only the box location is measured, the noisy measurement is 4-dimensional: $[x,y,s,r]$."
   ]
  },
  {
   "cell_type": "markdown",
   "id": "5ad26076-c036-49a5-87f0-61388564014f",
   "metadata": {},
   "source": [
    "We will reuse the Kalman filter that you have implemented in the previous part. Before anything, you will have to fill in the missing lines in the following cells:\n",
    "- iou_batch is given to you: you can take a look to understand what the \"intersection over union\" metric consists in\n",
    "- In convert_bbox_to_z and convert_x_to_bbox, fill in the missing lines\n",
    "- In KalmanBoxTracker, fill in the missing parts in the init, predict and update member functions"
   ]
  },
  {
   "cell_type": "code",
   "execution_count": null,
   "id": "8a18064f-052a-4611-b59a-a59cc16abaf4",
   "metadata": {},
   "outputs": [],
   "source": [
    "# Nothing to complete here\n",
    "def linear_assignment(cost_matrix):\n",
    "    try:\n",
    "        import lap\n",
    "        _, x, y = lap.lapjv(cost_matrix, extend_cost=True)\n",
    "        return np.array([[y[i],i] for i in x if i >= 0]) #\n",
    "    except ImportError:\n",
    "        from scipy.optimize import linear_sum_assignment\n",
    "        x, y = linear_sum_assignment(cost_matrix)\n",
    "        return np.array(list(zip(x, y)))"
   ]
  },
  {
   "cell_type": "code",
   "execution_count": null,
   "id": "45d2a372-4cef-4c81-88e8-b2a19b401548",
   "metadata": {},
   "outputs": [],
   "source": [
    "def iou_batch(bb_test, bb_gt):\n",
    "    \"\"\"\n",
    "    Computes Intersection Over Union between two sets of bboxes in [x1,y1,x2,y2] format\n",
    "    \n",
    "    Arguments:\n",
    "    bb_test: np.array(nb test boxes, 4)\n",
    "    bb_gt: np.array(nb gt boxes, 4)\n",
    "    \n",
    "    Returns:\n",
    "    IoU: np.array(nb test boxes, nb gt boxes), the IoU between all test and gt boxes\n",
    "    \"\"\"\n",
    "    bb_gt = np.expand_dims(bb_gt, 0)\n",
    "    bb_test = np.expand_dims(bb_test, 1)\n",
    "\n",
    "    xx1 = np.maximum(bb_test[..., 0], bb_gt[..., 0])\n",
    "    yy1 = np.maximum(bb_test[..., 1], bb_gt[..., 1])\n",
    "    xx2 = np.minimum(bb_test[..., 2], bb_gt[..., 2])\n",
    "    yy2 = np.minimum(bb_test[..., 3], bb_gt[..., 3])\n",
    "    \n",
    "    w = np.maximum(0., xx2 - xx1)\n",
    "    h = np.maximum(0., yy2 - yy1)\n",
    "    wh = w * h\n",
    "    \n",
    "    IoU = wh / ((bb_test[..., 2] - bb_test[..., 0]) * (bb_test[..., 3] - bb_test[..., 1]) \n",
    "                + (bb_gt[..., 2] - bb_gt[..., 0]) * (bb_gt[..., 3] - bb_gt[..., 1]) - wh)                                              \n",
    "    return IoU    "
   ]
  },
  {
   "cell_type": "code",
   "execution_count": null,
   "id": "214d3dad-ace2-4c39-a47d-92b6f2a861f2",
   "metadata": {},
   "outputs": [],
   "source": [
    "def convert_bbox_to_z(bbox):\n",
    "    \"\"\"\n",
    "    Takes a bounding box in the form [x1,y1,x2,y2] and returns z in the form\n",
    "    [x,y,s,r] where x,y is the centre of the box and s is the area and r is\n",
    "    the aspect ratio\n",
    "    \"\"\"\n",
    "    w = bbox[2] - bbox[0]\n",
    "    h = bbox[3] - bbox[1]\n",
    "    x = bbox[0] + w/2\n",
    "    y = bbox[1] + h/2\n",
    "    s = w * h    # area\n",
    "    r = w / float(h)\n",
    "    \n",
    "    return np.array([x, y, s, r]).reshape((4, 1))\n",
    "\n",
    "\n",
    "def convert_x_to_bbox(x, score=None):\n",
    "    \"\"\"\n",
    "    Takes a bounding box x in the centre form [x,y,s,r] and returns it in the form\n",
    "    [x1,y1,x2,y2] where x1,y1 is the top left and x2,y2 is the bottom right\n",
    "    \"\"\"\n",
    "    \n",
    "    w = np.sqrt(x[2] * x[3])\n",
    "    h = x[2] / w\n",
    "    x1 = x[0] - w/2\n",
    "    y1 = x[1] - h/2\n",
    "    x2 = x[0] + w/2\n",
    "    y2 = x[1] + h/2\n",
    "    \n",
    "    if(score==None):\n",
    "        return np.array([x1, y1, x2, y2]).reshape((1,4))\n",
    "    else:\n",
    "        return np.array([x1, y1, x2, y2, score]).reshape((1,5))"
   ]
  },
  {
   "cell_type": "markdown",
   "id": "9bec18f2-969d-4d83-85e5-3b12c3594e6c",
   "metadata": {},
   "source": [
    "<br>Below is the main code for the Multi-Object Tracker. It is quite long but only a few parts need to be completed. Don't forget to call `convert_bbox_to_z` when needed to convert from `[x1,y1,x2,y2]` representation to `[x,y,s,r]`."
   ]
  },
  {
   "cell_type": "code",
   "execution_count": null,
   "id": "2a1ec036-faff-4564-9b07-9b76dfb7ffcc",
   "metadata": {},
   "outputs": [],
   "source": [
    "class KalmanBoxTracker(object):\n",
    "    \"\"\"\n",
    "    This class represents the internal state of individual tracked objects observed as bbox.\n",
    "        The state is in the form [[x,y,s,r,\\dot{x},\\dot{y},\\dot{s}]]. \n",
    "        Only the first four dimensions are observed.\n",
    "    \"\"\"\n",
    "    count = 0\n",
    "    def __init__(self, bbox):\n",
    "        \"\"\"\n",
    "        Initialises a tracker using initial bounding box.\n",
    "            bbox is in the [x1,y1,x2,y2] format\n",
    "        \"\"\"\n",
    "\n",
    "        # define a constant velocity model\n",
    "        self.kf = KalmanFilter(dim_x=7, dim_z=4)\n",
    "            # Initialize a KalmanFilter with the correct dimension for the state and measurement\n",
    "            \n",
    "        # Initialize the state transition matrix and measurement matrix assuming a constant velocity model\n",
    "        # with only location variables measured\n",
    "        self.kf.F = np.array([[1,0,0,0,1,0,0], \n",
    "                              [0,1,0,0,0,1,0], \n",
    "                              [0,0,1,0,0,0,1], \n",
    "                              [0,0,0,1,0,0,0], \n",
    "                              [0,0,0,0,1,0,0], \n",
    "                              [0,0,0,0,0,1,0], \n",
    "                              [0,0,0,0,0,0,1]])\n",
    "        \n",
    "        self.kf.H = np.array([[1,0,0,0,0,0,0], \n",
    "                              [0,1,0,0,0,0,0], \n",
    "                              [0,0,1,0,0,0,0], \n",
    "                              [0,0,0,1,0,0,0]])\n",
    "\n",
    "        self.kf.P[4:,4:] *= 1000. # give high uncertainty to the unobservable initial velocities\n",
    "        self.kf.P *= 10.\n",
    "        self.kf.Q[-1,-1] *= 0.01\n",
    "        self.kf.Q[4:,4:] *= 0.01\n",
    "        self.kf.R[2:,2:] *= 10.\n",
    "\n",
    "        self.kf.x[:4] = convert_bbox_to_z(bbox)\n",
    "        \n",
    "        self.time_since_update = 0\n",
    "        self.id = KalmanBoxTracker.count\n",
    "        KalmanBoxTracker.count += 1\n",
    "        self.history = []\n",
    "        self.hits = 0\n",
    "        self.hit_streak = 0\n",
    "        self.age = 0\n",
    "\n",
    "    def update(self, bbox):\n",
    "        \"\"\"\n",
    "        Updates the state vector with observed bbox.\n",
    "            bbox is in the [x1,y1,x2,y2] format\n",
    "        \"\"\"\n",
    "        self.time_since_update = 0\n",
    "        self.history = []\n",
    "        self.hits += 1\n",
    "        self.hit_streak += 1\n",
    "        \n",
    "        # write the call to the Kalman filter update\n",
    "        self.kf.update(convert_bbox_to_z(bbox))\n",
    "\n",
    "    def predict(self):\n",
    "        \"\"\"\n",
    "        Advances the state vector and returns the predicted bounding box estimate.\n",
    "        \"\"\"\n",
    "        if((self.kf.x[6]+self.kf.x[2])<=0):\n",
    "            self.kf.x[6] *= 0.0\n",
    "            \n",
    "        # write the call to the Kalman filter predict\n",
    "        self.kf.predict()\n",
    "        \n",
    "        self.age += 1\n",
    "        if(self.time_since_update>0):\n",
    "            self.hit_streak = 0\n",
    "        self.time_since_update += 1\n",
    "        self.history.append(convert_x_to_bbox(self.kf.x))\n",
    "        return self.history[-1]\n",
    "\n",
    "    def get_state(self):\n",
    "        \"\"\"\n",
    "        Returns the current bounding box estimate.\n",
    "        \"\"\"\n",
    "        return convert_x_to_bbox(self.kf.x)\n",
    "\n",
    "\n",
    "def associate_detections_to_trackers(detections, trackers, iou_threshold = 0.3):\n",
    "    \"\"\"\n",
    "    Assigns detections to tracked object (both represented as bounding boxes)\n",
    "    Returns 3 lists of matches, unmatched_detections and unmatched_trackers\n",
    "    \"\"\"\n",
    "    if(len(trackers)==0):\n",
    "        return np.empty((0,2),dtype=int), np.arange(len(detections)), np.empty((0,5),dtype=int)\n",
    "\n",
    "    iou_matrix = iou_batch(detections, trackers)\n",
    "\n",
    "    if min(iou_matrix.shape) > 0:\n",
    "        a = (iou_matrix > iou_threshold).astype(np.int32)\n",
    "        if a.sum(1).max() == 1 and a.sum(0).max() == 1:\n",
    "            matched_indices = np.stack(np.where(a), axis=1)\n",
    "        else:\n",
    "            matched_indices = linear_assignment(-iou_matrix)\n",
    "    else:\n",
    "        matched_indices = np.empty(shape=(0,2))\n",
    "\n",
    "    unmatched_detections = []\n",
    "    for d, det in enumerate(detections):\n",
    "        if(d not in matched_indices[:,0]):\n",
    "            unmatched_detections.append(d)\n",
    "    unmatched_trackers = []\n",
    "    for t, trk in enumerate(trackers):\n",
    "        if(t not in matched_indices[:,1]):\n",
    "            unmatched_trackers.append(t)\n",
    "\n",
    "    #filter out matched with low IOU\n",
    "    matches = []\n",
    "    for m in matched_indices:\n",
    "        if(iou_matrix[m[0], m[1]]<iou_threshold):\n",
    "            unmatched_detections.append(m[0])\n",
    "            unmatched_trackers.append(m[1])\n",
    "        else:\n",
    "            matches.append(m.reshape(1,2))\n",
    "    if(len(matches)==0):\n",
    "        matches = np.empty((0,2),dtype=int)\n",
    "    else:\n",
    "        matches = np.concatenate(matches,axis=0)\n",
    "\n",
    "    return matches, np.array(unmatched_detections), np.array(unmatched_trackers)\n",
    "\n",
    "\n",
    "class MOT(object):\n",
    "    def __init__(self, max_age=1, min_hits=3, iou_threshold=0.3):\n",
    "        \"\"\"\n",
    "        Sets key parameters for SORT\n",
    "        \"\"\"\n",
    "        self.max_age = max_age\n",
    "        self.min_hits = min_hits\n",
    "        self.iou_threshold = iou_threshold\n",
    "        self.trackers = []\n",
    "        self.frame_count = 0\n",
    "\n",
    "    def update(self, dets=np.empty((0, 5))):\n",
    "        \"\"\"\n",
    "        Params:\n",
    "          dets - a numpy array of detections in the format [[x1,y1,x2,y2,score], [x1,y1,x2,y2,score],...]\n",
    "        Requires: this method must be called once for each frame even with empty detections \n",
    "        (use np.empty((0, 5)) for frames without detections).\n",
    "        Returns a similar array, where the last column is the object ID.\n",
    "        NOTE: The number of objects returned may differ from the number of detections provided.\n",
    "        \"\"\"\n",
    "        self.frame_count += 1\n",
    "        # get predicted locations from existing trackers.\n",
    "        trks = np.zeros((len(self.trackers), 5))\n",
    "        to_del = []\n",
    "        ret = []\n",
    "        for t, trk in enumerate(trks):\n",
    "            pos = self.trackers[t].predict()[0]\n",
    "            trk[:] = [pos[0], pos[1], pos[2], pos[3], 0]\n",
    "            if np.any(np.isnan(pos)):\n",
    "                to_del.append(t)\n",
    "        trks = np.ma.compress_rows(np.ma.masked_invalid(trks))\n",
    "        for t in reversed(to_del):\n",
    "            self.trackers.pop(t)\n",
    "        matched, unmatched_dets, unmatched_trks = associate_detections_to_trackers(dets,trks, self.iou_threshold)\n",
    "\n",
    "        # update matched trackers with assigned detections\n",
    "        for m in matched:\n",
    "            self.trackers[m[1]].update(dets[m[0], :])\n",
    "\n",
    "        # create and initialise new trackers for unmatched detections\n",
    "        for i in unmatched_dets:\n",
    "            trk = KalmanBoxTracker(dets[i,:])\n",
    "            self.trackers.append(trk)\n",
    "        i = len(self.trackers)\n",
    "        for trk in reversed(self.trackers):\n",
    "            d = trk.get_state()[0]\n",
    "            if (trk.time_since_update < 1) and (trk.hit_streak >= self.min_hits or self.frame_count <= self.min_hits):\n",
    "                ret.append(np.concatenate((d,[trk.id+1])).reshape(1,-1)) # +1 as MOT benchmark requires positive\n",
    "            i -= 1\n",
    "            # remove dead tracklet\n",
    "            if(trk.time_since_update > self.max_age):\n",
    "                self.trackers.pop(i)\n",
    "        if(len(ret)>0):\n",
    "            return np.concatenate(ret)\n",
    "        return np.empty((0,5))"
   ]
  },
  {
   "cell_type": "markdown",
   "id": "c54fe791-54c9-415f-af9a-f141a41181ae",
   "metadata": {},
   "source": [
    "<br>Now we can finally run the Multi-Object Tracker (MOT). Video frames with superimposed bounding boxes from tracked pedestrians are saved in 'output/images'. The last block of code uses opencv to convert these frames into a video saved in 'output/video.avi' for better visualization. Optionally, you can test your code with a second video with detection file 'data/KITTI-13_det.txt' and frames in 'data/KITTI-13_img'"
   ]
  },
  {
   "cell_type": "markdown",
   "id": "6ae5804c-6898-4507-956b-cb7b27a33411",
   "metadata": {},
   "source": [
    "Multiple Object Tracker on the video frames from 'data/KITTI-17_img':"
   ]
  },
  {
   "cell_type": "code",
   "execution_count": null,
   "id": "e9580b7f-06cb-4c5a-aa80-dda3c039879d",
   "metadata": {},
   "outputs": [],
   "source": [
    "import os\n",
    "from skimage import io\n",
    "\n",
    "from IPython.display import clear_output\n",
    "\n",
    "import matplotlib\n",
    "import matplotlib.pyplot as plt\n",
    "import matplotlib.patches as patches\n",
    "\n",
    "%matplotlib inline"
   ]
  },
  {
   "cell_type": "code",
   "execution_count": null,
   "id": "94872aa6-409c-43dc-8fc2-9a6ec33e066e",
   "metadata": {},
   "outputs": [],
   "source": [
    "colours = np.random.rand(32, 3)\n",
    "dets_filename = 'data/KITTI-17_det.txt'\n",
    "img_path = os.path.join('data', 'KITTI-17_img')\n",
    "\n",
    "if not os.path.exists('output'):\n",
    "    os.makedirs('output')\n",
    "if not os.path.exists('output/images'):\n",
    "    os.makedirs('output/images')"
   ]
  },
  {
   "cell_type": "code",
   "execution_count": null,
   "id": "629a8f83-1586-4d6e-834f-596d8f8e81a3",
   "metadata": {},
   "outputs": [],
   "source": [
    "# Initialize the multi object tracker\n",
    "mot_tracker = MOT(max_age=1, min_hits=3, iou_threshold=0.3)\n",
    "\n",
    "# Load all detections for all frames\n",
    "dets = np.loadtxt(dets_filename, delimiter=',')\n",
    "\n",
    "# Run the MOT over all frames, save png of all frames with tracked pedestrians\n",
    "for frame in range(int(dets[:,0].max())):\n",
    "    frame += 1 #detection and frame numbers begin at 1\n",
    "    frame_dets = dets[dets[:, 0]==frame, 2:7]\n",
    "    frame_dets[:, 2:4] += frame_dets[:, 0:2] #convert from [x1,y1,w,h] to [x1,y1,x2,y2]\n",
    "    \n",
    "    im = io.imread(os.path.join(img_path, '%06d.jpg'%(frame)))\n",
    "    \n",
    "    clear_output(wait=True)\n",
    "    fig = plt.figure(figsize=(10, 10*im.shape[0]/im.shape[1]))\n",
    "    ax1 = fig.add_subplot(111, aspect='equal')   \n",
    "    ax1.imshow(im)   \n",
    "    plt.grid(False)\n",
    "    plt.axis('off')\n",
    "    \n",
    "    trackers = mot_tracker.update(frame_dets)\n",
    "    \n",
    "    for d in trackers:\n",
    "        d = d.astype(np.int32)\n",
    "        ax1.add_patch(patches.Rectangle((d[0], d[1]), d[2]-d[0], d[3]-d[1],\n",
    "                                        fill = False, lw = 3, ec = colours[d[4]%32,:]))\n",
    "\n",
    "    plt.savefig(os.path.join('output', 'images', str(frame).zfill(6) + '.png'))\n",
    "    plt.show();"
   ]
  },
  {
   "cell_type": "code",
   "execution_count": null,
   "id": "da835075-9f37-44ac-934a-6f5edeb3ed94",
   "metadata": {},
   "outputs": [],
   "source": [
    "# Reload the png's and save as video for better visualization\n",
    "import os\n",
    "import cv2\n",
    "\n",
    "image_folder = os.path.join('output', 'images')\n",
    "video_name = os.path.join('output','video.avi')\n",
    "\n",
    "images = [img for img in sorted(os.listdir(image_folder)) if img.endswith(\".png\")]\n",
    "frame = cv2.imread(os.path.join(image_folder, images[0]))\n",
    "height, width, layers = frame.shape\n",
    "\n",
    "video = cv2.VideoWriter(video_name, 0, 10, (width,height))\n",
    "\n",
    "for image in images:\n",
    "    video.write(cv2.imread(os.path.join(image_folder, image)))\n",
    "\n",
    "cv2.destroyAllWindows()\n",
    "video.release()"
   ]
  },
  {
   "cell_type": "markdown",
   "id": "d4f7c500-48d8-4f5b-a071-ae9b0f126d01",
   "metadata": {},
   "source": [
    "Optionally, you can test your code with a second video with detection file in 'data/KITTI-13_det.txt' and frames in 'data/KITTI-13_img'"
   ]
  },
  {
   "cell_type": "code",
   "execution_count": null,
   "id": "2f126a0d-bb28-460a-974e-4bdb0f533621",
   "metadata": {},
   "outputs": [],
   "source": [
    "colours = np.random.rand(32, 3)\n",
    "dets_filename = 'data/KITTI-13_det.txt'\n",
    "img_path = os.path.join('data', 'KITTI-13_img')\n",
    "\n",
    "if not os.path.exists('output'):\n",
    "    os.makedirs('output')\n",
    "if not os.path.exists('output/images'):\n",
    "    os.makedirs('output/images')\n",
    "\n",
    "# Initialize the multi object tracker\n",
    "mot_tracker = MOT(max_age=1, min_hits=3, iou_threshold=0.3)\n",
    "\n",
    "# Load all detections for all frames\n",
    "dets = np.loadtxt(dets_filename, delimiter=',')\n",
    "\n",
    "# Run the MOT over all frames, save png of all frames with tracked pedestrians\n",
    "for frame in range(int(dets[:,0].max())):\n",
    "    frame += 1 #detection and frame numbers begin at 1\n",
    "    frame_dets = dets[dets[:, 0]==frame, 2:7]\n",
    "    frame_dets[:, 2:4] += frame_dets[:, 0:2] #convert from [x1,y1,w,h] to [x1,y1,x2,y2]\n",
    "    \n",
    "    im = io.imread(os.path.join(img_path, '%06d.jpg'%(frame)))\n",
    "    \n",
    "    clear_output(wait=True)\n",
    "    fig = plt.figure(figsize=(10, 10*im.shape[0]/im.shape[1]))\n",
    "    ax1 = fig.add_subplot(111, aspect='equal')   \n",
    "    ax1.imshow(im)   \n",
    "    plt.grid(False)\n",
    "    plt.axis('off')\n",
    "    \n",
    "    trackers = mot_tracker.update(frame_dets)\n",
    "    \n",
    "    for d in trackers:\n",
    "        d = d.astype(np.int32)\n",
    "        ax1.add_patch(patches.Rectangle((d[0], d[1]), d[2]-d[0], d[3]-d[1],\n",
    "                                        fill = False, lw = 3, ec = colours[d[4]%32,:]))\n",
    "\n",
    "    plt.savefig(os.path.join('output', 'images', str(frame).zfill(6) + '.png'))\n",
    "    plt.show();"
   ]
  },
  {
   "cell_type": "code",
   "execution_count": null,
   "id": "e2ae503a",
   "metadata": {},
   "outputs": [],
   "source": [
    "# Reload the png's and save as video for better visualization\n",
    "import os\n",
    "import cv2\n",
    "\n",
    "image_folder = os.path.join('output', 'images')\n",
    "video_name = os.path.join('output','video.avi')\n",
    "\n",
    "images = [img for img in sorted(os.listdir(image_folder)) if img.endswith(\".png\")]\n",
    "frame = cv2.imread(os.path.join(image_folder, images[0]))\n",
    "height, width, layers = frame.shape\n",
    "\n",
    "video = cv2.VideoWriter(video_name, 0, 10, (width,height))\n",
    "\n",
    "for image in images:\n",
    "    video.write(cv2.imread(os.path.join(image_folder, image)))\n",
    "\n",
    "cv2.destroyAllWindows()\n",
    "video.release()"
   ]
  }
 ],
 "metadata": {
  "kernelspec": {
   "display_name": "Python 3 (ipykernel)",
   "language": "python",
   "name": "python3"
  },
  "language_info": {
   "codemirror_mode": {
    "name": "ipython",
    "version": 3
   },
   "file_extension": ".py",
   "mimetype": "text/x-python",
   "name": "python",
   "nbconvert_exporter": "python",
   "pygments_lexer": "ipython3",
   "version": "3.11.8"
  }
 },
 "nbformat": 4,
 "nbformat_minor": 5
}
